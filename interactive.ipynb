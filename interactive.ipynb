{
 "cells": [
  {
   "cell_type": "code",
   "execution_count": null,
   "metadata": {
    "colab": {},
    "colab_type": "code",
    "id": "Z19TtQfg4g_0"
   },
   "outputs": [],
   "source": [
    "### Importing Libraries"
   ]
  },
  {
   "cell_type": "code",
   "execution_count": null,
   "metadata": {
    "colab": {},
    "colab_type": "code",
    "id": "dmpYTtuf4g_0"
   },
   "outputs": [],
   "source": [
    "from __future__ import print_function\n",
    "%matplotlib inline\n",
    "import os\n",
    "import numpy as np\n",
    "import matplotlib.pyplot as plt\n",
    "import matplotlib.image as image\n",
    "plt.style.use(\"ggplot\")\n",
    "\n",
    "from skimage import io\n",
    "from sklearn.cluster import KMeans\n",
    "from sklearn.cluster import MiniBatchKMeans\n",
    "\n",
    "from ipywidgets import interact, interactive, fixed, interact_manual, IntSlider\n",
    "import ipywidgets as widgets"
   ]
  },
  {
   "cell_type": "code",
   "execution_count": null,
   "metadata": {
    "colab": {},
    "colab_type": "code",
    "id": "FIuEg2_G4g_0"
   },
   "outputs": [],
   "source": [
    "plt.rcParams['figure.figsize'] = (20, 12)"
   ]
  },
  {
   "cell_type": "code",
   "execution_count": null,
   "metadata": {
    "colab": {},
    "colab_type": "code",
    "id": "w4944DGB4g_0"
   },
   "outputs": [],
   "source": [
    "### Main Program"
   ]
  },
  {
   "cell_type": "code",
   "execution_count": null,
   "metadata": {
    "colab": {},
    "colab_type": "code",
    "id": "KjZevI3w4hBY"
   },
   "outputs": [],
   "source": [
    "# img_dir = '/content/images/'\n",
    "img_dir = 'images/'\n",
    "#The commented line if using Jupyter NB"
   ]
  },
  {
   "cell_type": "code",
   "execution_count": null,
   "metadata": {
    "colab": {},
    "colab_type": "code",
    "id": "IOxzY92X4hBY"
   },
   "outputs": [],
   "source": [
    "@interact\n",
    "def colour_compression(image=os.listdir(img_dir), k=IntSlider(min=1,max=256,step=1,value=16,\n",
    "                                                              continuous_update=False,\n",
    "                                                              layout=dict(width='100%'))):\n",
    "                                                                                                                                \n",
    "    input_img = io.imread(img_dir+image)\n",
    "    img_data = (input_img / 255.0).reshape(-1,3)\n",
    "    kmeans = MiniBatchKMeans(k).fit(img_data)\n",
    "    k_colours = kmeans.cluster_centers_[kmeans.predict(img_data)]\n",
    "    k_img = np.reshape(k_colours, input_img.shape)\n",
    "    \n",
    "    fig, (ax1, ax2) = plt.subplots(1,2)\n",
    "    fig.suptitle('K-Means Image Compression', fontsize=20)\n",
    "    \n",
    "    ax1.set_title('Compressed')\n",
    "    ax1.set_xticks([])\n",
    "    ax1.set_yticks([])\n",
    "    ax1.imshow(k_img)\n",
    "    \n",
    "    ax2.set_title('Original(16,777,216 colours)')\n",
    "    ax2.set_xticks([])\n",
    "    ax2.set_yticks([])\n",
    "    ax2.imshow(input_img)\n",
    "    \n",
    "    plt.subplots_adjust(top=0.85)\n",
    "    plt.show()\n",
    "    \n",
    "    #This will save the compressed image\n",
    "    io.imsave('Compressed.'+image,k_img);\n",
    "\n",
    "     "
   ]
  },
  {
   "cell_type": "code",
   "execution_count": null,
   "metadata": {},
   "outputs": [],
   "source": []
  }
 ],
 "metadata": {
  "colab": {
   "name": "Interactive.ipynb",
   "provenance": []
  },
  "kernelspec": {
   "display_name": "Python 3",
   "language": "python",
   "name": "python3"
  },
  "language_info": {
   "codemirror_mode": {
    "name": "ipython",
    "version": 3
   },
   "file_extension": ".py",
   "mimetype": "text/x-python",
   "name": "python",
   "nbconvert_exporter": "python",
   "pygments_lexer": "ipython3",
   "version": "3.6.10"
  }
 },
 "nbformat": 4,
 "nbformat_minor": 1
}
